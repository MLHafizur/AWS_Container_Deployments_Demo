{
 "cells": [
  {
   "cell_type": "markdown",
   "metadata": {},
   "source": [
    "The applicable IAM role must include these permissions:\n",
    "* ec2 run-instances\n",
    "* ec2 describe-instances \n",
    "* ec2 terminate-instances"
   ]
  },
  {
   "cell_type": "code",
   "execution_count": null,
   "metadata": {},
   "outputs": [],
   "source": [
    "%env REGION eu-west-1\n",
    "\n",
    "# Deep Learning AMI in eu-west-1\n",
    "%env AMI_ID ami-02273e0d16172dbd1\n",
    "\n",
    "# Adapt these as needed\n",
    "# The security must allow incoming TCP ports 22 (ssh) and 8888 (jupyter)\n",
    "%env SECURITY_GROUP_ID sg-0262e9c0dad040106\n",
    "%env ROLE_NAME AdminRole\n",
    "%env KEY_NAME admin\n",
    "%env KEY_PAIR ~/.ssh/admin.pem"
   ]
  },
  {
   "cell_type": "code",
   "execution_count": null,
   "metadata": {},
   "outputs": [],
   "source": [
    "%%sh\n",
    "\n",
    "aws configure set region $REGION"
   ]
  },
  {
   "cell_type": "code",
   "execution_count": null,
   "metadata": {},
   "outputs": [],
   "source": [
    "%%sh\n",
    "\n",
    "# Create a p3.2xlarge spot instance (1 NVIDIA V100 GPU)\n",
    "aws ec2 run-instances --image-id $AMI_ID \\\n",
    "                       --instance-type p3.2xlarge \\\n",
    "                       --instance-market-options '{\"MarketType\":\"spot\"}' \\\n",
    "                       --tag-specifications 'ResourceType=instance,Tags=[{Key=Name,Value=dlami-demo}]' \\\n",
    "                       --key-name $KEY_NAME \\\n",
    "                       --security-group-ids $SECURITY_GROUP_ID \\\n",
    "                       --iam-instance-profile Name=$ROLE_NAME"
   ]
  },
  {
   "cell_type": "code",
   "execution_count": null,
   "metadata": {},
   "outputs": [],
   "source": [
    "%%sh\n",
    "\n",
    "# Get the public DNS name\n",
    "export INSTANCE_NAME=`aws ec2 describe-instances \\\n",
    "     --filters \"Name=tag:Name,Values=dlami-demo\" \"Name=instance-state-name,Values=running\" \\\n",
    "     --query \"Reservations[*].Instances[*].PublicDnsName\" --output text`\n",
    "\n",
    "echo $INSTANCE_NAME"
   ]
  },
  {
   "cell_type": "raw",
   "metadata": {},
   "source": [
    "*** Local\n",
    "\n",
    "# ssh to the instance, redirecting local port 8000 to the Jupyter port\n",
    "ssh -i $KEY_PAIR -L 8000:localhost:8888 ec2-user@$INSTANCE_NAME\n",
    "\n",
    "*** EC2\n",
    "\n",
    "jupyter notebook --no-browser --port=8888\n",
    "\n",
    "*** Local\n",
    "\n",
    "open http://localhost:8000"
   ]
  },
  {
   "cell_type": "code",
   "execution_count": null,
   "metadata": {},
   "outputs": [],
   "source": [
    "%%sh \n",
    "\n",
    "# Get the instance id\n",
    "export INSTANCE_ID=`aws ec2 describe-instances \\\n",
    "     --filters \"Name=tag:Name,Values=dlami-demo\" \"Name=instance-state-name,Values=running\" \\\n",
    "     --query \"Reservations[*].Instances[*].InstanceId\" --output text`\n",
    "\n",
    "echo $INSTANCE_ID\n",
    "\n",
    "# Terminate the instance\n",
    "aws ec2 terminate-instances --instance-ids $INSTANCE_ID"
   ]
  },
  {
   "cell_type": "code",
   "execution_count": null,
   "metadata": {},
   "outputs": [],
   "source": []
  }
 ],
 "metadata": {
  "kernelspec": {
   "display_name": "Python 3",
   "language": "python",
   "name": "python3"
  },
  "language_info": {
   "codemirror_mode": {
    "name": "ipython",
    "version": 3
   },
   "file_extension": ".py",
   "mimetype": "text/x-python",
   "name": "python",
   "nbconvert_exporter": "python",
   "pygments_lexer": "ipython3",
   "version": "3.7.3"
  }
 },
 "nbformat": 4,
 "nbformat_minor": 2
}
