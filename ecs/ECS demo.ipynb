{
 "cells": [
  {
   "cell_type": "markdown",
   "metadata": {},
   "source": [
    "The applicable IAM role must include these permissions:\n",
    "* cloudwatch logs create-log-group\n",
    "* ecs create-cluster\n",
    "* ecs delete-cluster\n",
    "* ecs run-task\n",
    "* ecs create-service\n",
    "* ecs update-service\n",
    "* ecs delete-service\n",
    "* ec2 run-instances\n",
    "* ec2 describe-instances \n",
    "* ec2 terminate-instances"
   ]
  },
  {
   "cell_type": "code",
   "execution_count": null,
   "metadata": {},
   "outputs": [],
   "source": [
    "%env REGION eu-west-1\n",
    "\n",
    "# ECS-optimized AMI with GPU support in eu-west-1\n",
    "%env AMI_ID_GPU ami-0638eba79fcfe776e\n",
    "# ECS-optimized AMI with CPU support in eu-west-1\n",
    "%env AMI_ID_CPU ami-09cd8db92c6bf3a84 \n",
    "\n",
    "# Adapt these as needed\n",
    "# The security must allow incoming TCP ports 22 (ssh) and 8888 (jupyter)\n",
    "%env SECURITY_GROUP_ID sg-0010f9778dc2e6fb2\n",
    "%env ROLE_NAME ecsInstanceRole\n",
    "%env KEY_NAME admin\n",
    "%env KEY_PAIR ~/.ssh/admin.pem\n",
    "%env SUBNET_ID subnet-cbf5bdbc\n"
   ]
  },
  {
   "cell_type": "code",
   "execution_count": null,
   "metadata": {},
   "outputs": [],
   "source": [
    "%%sh\n",
    "\n",
    "aws configure set region $REGION"
   ]
  },
  {
   "cell_type": "code",
   "execution_count": null,
   "metadata": {},
   "outputs": [],
   "source": [
    "%%sh \n",
    "\n",
    "# Create a log group for task logs (referenced in task definitions)\n",
    "aws logs create-log-group --log-group-name awslogs-tf-ecs"
   ]
  },
  {
   "cell_type": "code",
   "execution_count": null,
   "metadata": {},
   "outputs": [],
   "source": [
    "%%sh \n",
    "\n",
    "aws ecs create-cluster --cluster-name ecs-demo"
   ]
  },
  {
   "cell_type": "code",
   "execution_count": null,
   "metadata": {},
   "outputs": [],
   "source": [
    "%%sh\n",
    "\n",
    "cat user-data.txt"
   ]
  },
  {
   "cell_type": "code",
   "execution_count": null,
   "metadata": {},
   "outputs": [],
   "source": [
    "%%sh \n",
    "\n",
    "# 4 p2.xlarge spot instances\n",
    "# ECS-optimized AMI with GPU support, default VPC\n",
    "aws ec2 run-instances --image-id $AMI_ID_GPU \\\n",
    "                       --count 4 \\\n",
    "                       --instance-type p2.xlarge \\\n",
    "                       --instance-market-options '{\"MarketType\":\"spot\"}' \\\n",
    "                       --tag-specifications 'ResourceType=instance,Tags=[{Key=Name,Value=ecs-demo}]' \\\n",
    "                       --key-name $KEY_NAME \\\n",
    "                       --security-group-ids $SECURITY_GROUP_ID \\\n",
    "                       --iam-instance-profile Name=$ROLE_NAME \\\n",
    "                       --user-data file://user-data.txt"
   ]
  },
  {
   "cell_type": "code",
   "execution_count": null,
   "metadata": {},
   "outputs": [],
   "source": [
    "%%sh\n",
    "\n",
    "# 2 c5.2xlarge spot instances\n",
    "# ECS-optimized AMI, default VPC, different subnet\n",
    "aws ec2 run-instances --image-id $AMI_ID_CPU \\\n",
    "                       --count 2 \\\n",
    "                       --instance-type c5.2xlarge \\\n",
    "                       --instance-market-options '{\"MarketType\":\"spot\"}' \\\n",
    "                       --tag-specifications 'ResourceType=instance,Tags=[{Key=Name,Value=ecs-demo}]' \\\n",
    "                       --key-name $KEY_NAME \\\n",
    "                       --security-group-ids $SECURITY_GROUP_ID \\\n",
    "                       --iam-instance-profile Name=$ROLE_NAME \\\n",
    "                       --user-data file://user-data.txt \\\n",
    "                       --subnet $SUBNET_ID"
   ]
  },
  {
   "cell_type": "code",
   "execution_count": null,
   "metadata": {},
   "outputs": [],
   "source": [
    "%%sh \n",
    "\n",
    "#aws ecs register-task-definition --cli-input-json file://training.json\n",
    "#aws ecs register-task-definition --cli-input-json file://inference.json"
   ]
  },
  {
   "cell_type": "code",
   "execution_count": null,
   "metadata": {},
   "outputs": [],
   "source": [
    "%%sh\n",
    "\n",
    "ecs-cli configure --cluster ecs-demo --region $REGION\n",
    "\n",
    "ecs-cli ps --desired-status RUNNING"
   ]
  },
  {
   "cell_type": "code",
   "execution_count": null,
   "metadata": {},
   "outputs": [],
   "source": [
    "%%sh \n",
    "\n",
    "# Run 4 training tasks without any constraint (the GPU requirement is in the task definition)\n",
    "aws ecs run-task --cluster ecs-demo --task-definition training:1 --count 4"
   ]
  },
  {
   "cell_type": "code",
   "execution_count": null,
   "metadata": {},
   "outputs": [],
   "source": [
    "%%sh\n",
    "\n",
    "ecs-cli ps --desired-status RUNNING"
   ]
  },
  {
   "cell_type": "code",
   "execution_count": null,
   "metadata": {},
   "outputs": [],
   "source": [
    "%%sh \n",
    "\n",
    "export TRAINING_TASK_ID=\n",
    "\n",
    "ecs-cli logs --task-id $TRAINING_TASK_ID | grep -v ^$"
   ]
  },
  {
   "cell_type": "code",
   "execution_count": null,
   "metadata": {},
   "outputs": [],
   "source": [
    "%%sh\n",
    "\n",
    "# Create inference service, starting with 1 initial task\n",
    "# Run it on c5 instance, and spread tasks evenly\n",
    "aws ecs create-service --cluster ecs-demo \\\n",
    "                       --service-name inference-cpu \\\n",
    "                       --task-definition inference:1 \\\n",
    "                       --desired-count 1 \\\n",
    "                       --placement-constraints type=\"memberOf\",expression=\"attribute:ecs.instance-type =~ c5.*\" \\\n",
    "                       --placement-strategy field=\"instanceId\",type=\"spread\""
   ]
  },
  {
   "cell_type": "code",
   "execution_count": null,
   "metadata": {},
   "outputs": [],
   "source": [
    "%%sh\n",
    "\n",
    "ecs-cli ps --desired-status RUNNING"
   ]
  },
  {
   "cell_type": "code",
   "execution_count": null,
   "metadata": {},
   "outputs": [],
   "source": [
    "%%sh \n",
    "\n",
    "export INFERENCE_IP=\n",
    "\n",
    "curl -d '{\"instances\": [1.0, 2.0, 5.0]}' \\\n",
    "     -X POST http://$INFERENCE_IP:8501/v1/models/saved_model_half_plus_two_cpu:predict"
   ]
  },
  {
   "cell_type": "code",
   "execution_count": null,
   "metadata": {},
   "outputs": [],
   "source": [
    "%%sh\n",
    "\n",
    "# Scale inference service to 2 tasks\n",
    "aws ecs update-service --cluster ecs-demo --service inference-cpu --desired-count 2"
   ]
  },
  {
   "cell_type": "code",
   "execution_count": null,
   "metadata": {},
   "outputs": [],
   "source": [
    "%%sh\n",
    "\n",
    "ecs-cli ps --desired-status RUNNING "
   ]
  },
  {
   "cell_type": "code",
   "execution_count": null,
   "metadata": {},
   "outputs": [],
   "source": [
    "%%sh\n",
    "\n",
    "# Scale service down and delete it\n",
    "aws ecs update-service --cluster ecs-demo --service inference-cpu --desired-count 0\n",
    "\n",
    "aws ecs delete-service --cluster ecs-demo --service inference-cpu"
   ]
  },
  {
   "cell_type": "code",
   "execution_count": null,
   "metadata": {},
   "outputs": [],
   "source": [
    "%%sh\n",
    "\n",
    "ecs-cli ps --desired-status RUNNING"
   ]
  },
  {
   "cell_type": "code",
   "execution_count": null,
   "metadata": {},
   "outputs": [],
   "source": [
    "%%sh \n",
    "\n",
    "# Get the instance ids\n",
    "export INSTANCE_IDS=`aws ec2 describe-instances --filters \"Name=tag:Name,Values=ecs-demo\" \"Name=instance-state-name,Values=running\" --query \"Reservations[*].Instances[*].InstanceId\" --output text`\n",
    "\n",
    "echo $INSTANCE_IDS\n",
    "\n",
    "# Terminate the instances\n",
    "aws ec2 terminate-instances --instance-ids `echo $INSTANCE_IDS | xargs`\n"
   ]
  },
  {
   "cell_type": "code",
   "execution_count": null,
   "metadata": {},
   "outputs": [],
   "source": [
    "%%sh\n",
    "\n",
    "# Delete the cluster\n",
    "aws ecs delete-cluster --cluster ecs-demo"
   ]
  },
  {
   "cell_type": "code",
   "execution_count": null,
   "metadata": {},
   "outputs": [],
   "source": []
  }
 ],
 "metadata": {
  "kernelspec": {
   "display_name": "Python 3",
   "language": "python",
   "name": "python3"
  },
  "language_info": {
   "codemirror_mode": {
    "name": "ipython",
    "version": 3
   },
   "file_extension": ".py",
   "mimetype": "text/x-python",
   "name": "python",
   "nbconvert_exporter": "python",
   "pygments_lexer": "ipython3",
   "version": "3.7.3"
  }
 },
 "nbformat": 4,
 "nbformat_minor": 2
}
